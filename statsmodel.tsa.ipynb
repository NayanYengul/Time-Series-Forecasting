{
 "cells": [
  {
   "cell_type": "markdown",
   "metadata": {},
   "source": [
    "# Autoregression(AR) Model:\n",
    "\n",
    "AR(p): where p is order of AR model\n",
    "Assumption: \n",
    "Series must be stationary.\n",
    "An autoregrressive(AR) model, predicts future behavior based on previous behaviour. \n",
    "In this model, the value of outcome at some point t in time, depends on value of predictor variable.\n",
    "It specifies that, a variable linealry depends on its own previous values, along with some error terms.\n",
    "\n"
   ]
  },
  {
   "cell_type": "code",
   "execution_count": 28,
   "metadata": {},
   "outputs": [
    {
     "name": "stdout",
     "output_type": "stream",
     "text": [
      "[101.21307998]\n"
     ]
    }
   ],
   "source": [
    "from statsmodels.tsa.ar_model import AR\n",
    "from random import random\n",
    "\n",
    "#Contrive (arficially create) Dataset\n",
    "data = [x + random() for x in range(1, 101)]\n",
    "\n",
    "#Fit model\n",
    "model = AR(data)\n",
    "model_fit = model.fit()\n",
    "\n",
    "#make a prediction\n",
    "y = model_fit.predict(100,100)\n",
    "print(y)\n",
    "\n"
   ]
  },
  {
   "cell_type": "markdown",
   "metadata": {},
   "source": [
    "# Moving Average(MA)\n",
    "\n",
    " MA(q): where q is order of MA model\n",
    "1. A moving average is a technique to get an overall idea of trends in the time series dataset; it an average of subset of datapoints. \n",
    "2. It is useful for forecasting long-term trends.\n",
    "3. We can calculate for any period of time. e.q. we have revenues of a shop every year and having 20 years of data.\n",
    "   we can take average of 3 years or 5 years or whatever we want. Accordingly we can predict for future sales of a shop.\n",
    "4. The average is calculated several times for several subsets of data.\n"
   ]
  },
  {
   "cell_type": "code",
   "execution_count": 8,
   "metadata": {
    "scrolled": false
   },
   "outputs": [
    {
     "name": "stdout",
     "output_type": "stream",
     "text": [
      "[79.23069393]\n"
     ]
    }
   ],
   "source": [
    "from statsmodels.tsa.arima_model import ARMA\n",
    "from random import random\n",
    "\n",
    "#Contrive (arficially create) Dataset\n",
    "data = [x + random() for x in range(1, 101)]\n",
    "#print(data)\n",
    "\n",
    "#fit model\n",
    "model = ARMA(data,order=(0,1)) #instantiate ARMA model\n",
    "model_fitted = model.fit()\n",
    "\n",
    "#prediction\n",
    "outcome = model_fitted.predict(100)\n",
    "print(outcome)\n",
    "\n"
   ]
  },
  {
   "cell_type": "markdown",
   "metadata": {},
   "source": [
    "# ARMA (Autoregressive Moving Average)Model\n",
    "ARMA = AR + MA\n",
    "ARMA(p,q) : p is order for AR model and q is order for MA model\n",
    "\n",
    "The method is suitable for univariate time series without trend and seasonal components.\n"
   ]
  },
  {
   "cell_type": "code",
   "execution_count": 6,
   "metadata": {},
   "outputs": [
    {
     "name": "stdout",
     "output_type": "stream",
     "text": [
      "[0.46235375]\n"
     ]
    }
   ],
   "source": [
    "#ARMA (AR(p) + MA(q))\n",
    "\n",
    "from statsmodels.tsa.arima_model import ARMA\n",
    "from random import random\n",
    "\n",
    "#contrived dataset\n",
    "data = [random() for x in range(1,100)]\n",
    "#print(data)\n",
    "\n",
    "#fit model\n",
    "model = ARMA(data, order=(2,1))\n",
    "model_fit = model.fit()\n",
    "\n",
    "#make predoction\n",
    "y = model_fit.predict(len(data),len(data))\n",
    "print(y)\n",
    "\n"
   ]
  },
  {
   "cell_type": "markdown",
   "metadata": {},
   "source": [
    "# ARIMA (Autoregressive Integrated moving average) model\n",
    "\n",
    "Assumption : Time series should be stationary. If it is not, then make it stationary.\n",
    "There are seasonal and Non-seasonal ARIMA models that can be used for forecasting\n",
    "\n",
    "Lags of the stationarized series in the forecasting equation are called \"autoregressive\" terms, lags of the forecast errors are called \"moving average\" terms, and a time series which needs to be differenced to be made stationary is said to be an \"integrated\" version of a stationary series."
   ]
  },
  {
   "cell_type": "code",
   "execution_count": 13,
   "metadata": {},
   "outputs": [
    {
     "name": "stdout",
     "output_type": "stream",
     "text": [
      "[0.81149377]\n"
     ]
    }
   ],
   "source": [
    "#ARIMA = (AR+MA+ARMA)\n",
    "from statsmodels.tsa.arima_model import ARIMA\n",
    "from random import random\n",
    "\n",
    "#contrived dataset\n",
    "data = [random()+x for x in range(1,100)]\n",
    "\n",
    "\n",
    "#fit model\n",
    "model = ARIMA(data, order=(1,1,1))\n",
    "model_fit = model.fit()\n",
    "\n",
    "#make predoction\n",
    "y = model_fit.predict(len(data),len(data))\n",
    "print(y)"
   ]
  },
  {
   "cell_type": "markdown",
   "metadata": {},
   "source": [
    "# Exponential Smoothing\n",
    "Exponential smoothing of time series data assigns exponentially decreasing weights to newest to oldest observations. It means, older the data less is the priority and newer the data highest is the priority.\n",
    "Exponential smoothing mostly useful for short term data.\n"
   ]
  },
  {
   "cell_type": "markdown",
   "metadata": {},
   "source": [
    "# Simple Exponential Smoothing\n",
    "Information : Single exponential smoothing or Simple Exponential smoothing is useful in forecasting univariate data without    trend and seasonality. \n",
    "In Simple Exponential smoothing, the smoothing constant alpha(a), which determines the weights of observation, ranges between 0 to 1.\n",
    "\n",
    "Notes About Package: In Stasmodel package, there is auto optimization option aavailable, which allows us to find optimized value of alpha(a).\n",
    "\n",
    "Dataset: In the below example we have taken data set of calls per week to Fire brigade office in New York city. It is 15 weeks of data, and we are predicting here 16th week's calls.\n",
    "\n",
    "Assumptions:\n",
    "Before using simple expoential smoothing, we need to assume value of alpha(a) and first forecasted value.\n",
    "Mostly first forecasted value assume to be same as actual observation value.\n",
    "\n",
    "Exponential smoothing formula\n",
    "Ft = Ft – 1 + a (At – 1 - Ft – 1)\n",
    "\n",
    "Where:\n",
    "\n",
    "Ft – 1 = forecast for the previous period,\n",
    "At – 1 = Actual demand for the period,\n",
    "a = weight (between 0 and 1). The closer to zero, the smaller the weight.\n",
    "\n"
   ]
  },
  {
   "cell_type": "code",
   "execution_count": 36,
   "metadata": {},
   "outputs": [
    {
     "name": "stdout",
     "output_type": "stream",
     "text": [
      "[21.2768]\n"
     ]
    }
   ],
   "source": [
    "#Simple Exponential Smoothing\n",
    "from statsmodels.tsa.api import SimpleExpSmoothing\n",
    "\n",
    "#Data: Calls per week to Fire Briged in NY (15 weeks data)\n",
    "data = [20,27,25,22,18,21,26,19,16,28,25,26,17,23,27]\n",
    "\n",
    "#Fit model\n",
    "fit1 = SimpleExpSmoothing(data).fit(smoothing_level=0.2,optimized=False)\n",
    "\n",
    "#predict\n",
    "y = fit1.predict(5,5)\n",
    "print(y)"
   ]
  },
  {
   "cell_type": "markdown",
   "metadata": {},
   "source": [
    "# Double Exponential Smoothing/ Holts Trend Model\n",
    "\n",
    "1) Double Exponential Smoothing is an extension to Simple Exponential Smoothing, that explicitly adds support for trends in the univariate data.\n",
    "2) Two parameters - alpha(a): Controlling smoothing factor for level\n",
    "                    beta(b): Controlling smoothing factor for Trend\n",
    "3) This method supports trends in 2 different ways- Additive Trend: Double exp. smoothing with linear trend\n",
    "                                                    Multiplicative Trend: Double exp. smoothing with exponential trend\n",
    "4) Double Exponential Smoothing equation:\n",
    "    FITt = Ft + Tt\n",
    "    Ft = FITt-1 + a * (At - FITt-1)\n",
    "    Tt = Tt-1 + b * (Ft - FITt-1)\n",
    "    where:\n",
    "    Ft - Forecast value at time t\n",
    "    FITt - Forecast Integrated Trend value at time t\n",
    "    At - Actual Observation at time t\n",
    "    Tt - Trend value at time t\n",
    "    a - alpha\n",
    "    b - beta\n",
    "    \n",
    "5) For long-term forecast, forecasting with Holt’s method will increase or decrease indefinitely into the future. In this case, we use the Damped trend method which has a damping parameter 0< ϕ <1 to prevent the forecast “go wild”. \n",
    "\n"
   ]
  },
  {
   "cell_type": "code",
   "execution_count": 20,
   "metadata": {},
   "outputs": [
    {
     "name": "stdout",
     "output_type": "stream",
     "text": [
      "[176.3335845  171.24384864 166.15411277 161.06437691 155.97464104]\n"
     ]
    }
   ],
   "source": [
    "#Double Exponential Smoothing\n",
    "from statsmodels.tsa.api import Holt\n",
    "\n",
    "#Data: Weekly demand of a good (10 weeks data)\n",
    "data = [213,201,198,207,220,232,210,217,212,225]\n",
    "\n",
    "#fit MOdel\n",
    "fit = Holt(data).fit(smoothing_level=0.2, smoothing_slope=0.1, optimized=False)\n",
    "\n",
    "#predict\n",
    "y = fit.predict(11,15)\n",
    "print(y)"
   ]
  },
  {
   "cell_type": "markdown",
   "metadata": {},
   "source": [
    "# Triple Exponential Smoothing/ Holt- Winter's Model\n",
    "1) Holt-Winters’ Method is suitable for data with trends and seasonalities which includes a seasonality smoothing parameter γ. \n",
    "    There are two variations to this method:\n",
    "    a) Additive method: the seasonal variations are roughly constant through the series.\n",
    "    b) Multiplicative method: the seasonal variations are changing proportionally to the level of the series.\n",
    "    \n",
    "2) In addition to the equations for single and double smoothing, a third equation is used to handle the seasonality aspect: "
   ]
  },
  {
   "cell_type": "code",
   "execution_count": 10,
   "metadata": {},
   "outputs": [
    {
     "name": "stdout",
     "output_type": "stream",
     "text": [
      "[22.55736146 23.24588917 21.99671133]\n"
     ]
    }
   ],
   "source": [
    "# Triple exponential smoothing\n",
    "...\n",
    "from statsmodels.tsa.holtwinters import ExponentialSmoothing\n",
    "# prepare data\n",
    "data = [20,27,25,22,18,21,26,19,16,28,25,26,17,23,27]\n",
    "# create class\n",
    "model = ExponentialSmoothing(data)\n",
    "# fit model\n",
    "model_fit = model.fit(smoothing_level=0.2, smoothing_slope=0.1, smoothing_seasonal = 0.1,optimized=False)\n",
    "# make prediction\n",
    "yhat = model_fit.predict(11,13)\n",
    "print(yhat)"
   ]
  }
 ],
 "metadata": {
  "kernelspec": {
   "display_name": "Python 3",
   "language": "python",
   "name": "python3"
  },
  "language_info": {
   "codemirror_mode": {
    "name": "ipython",
    "version": 3
   },
   "file_extension": ".py",
   "mimetype": "text/x-python",
   "name": "python",
   "nbconvert_exporter": "python",
   "pygments_lexer": "ipython3",
   "version": "3.7.0"
  }
 },
 "nbformat": 4,
 "nbformat_minor": 2
}
